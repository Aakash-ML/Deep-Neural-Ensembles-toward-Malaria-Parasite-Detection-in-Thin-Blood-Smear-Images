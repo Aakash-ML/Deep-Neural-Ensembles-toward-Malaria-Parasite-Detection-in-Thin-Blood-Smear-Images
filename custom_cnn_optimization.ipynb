{
 "cells": [
  {
   "cell_type": "markdown",
   "metadata": {
    "colab_type": "text",
    "id": "3OwkIgpldIMW"
   },
   "source": [
    "This code utilizes Talos to optimize the architecture and hyperparameter of the custom model\n"
   ]
  },
  {
   "cell_type": "code",
   "execution_count": null,
   "metadata": {
    "colab": {},
    "colab_type": "code",
    "id": "QJLI_14mdfY5"
   },
   "outputs": [],
   "source": [
    "#install talos if not done before\n",
    "\n",
    "!pip install -q talos"
   ]
  },
  {
   "cell_type": "code",
   "execution_count": null,
   "metadata": {},
   "outputs": [],
   "source": [
    "#load libraries\n",
    "\n",
    "import talos as ta\n",
    "import cv2\n",
    "import tensorflow as tf\n",
    "import numpy as np\n",
    "import os\n",
    "from keras.models import Sequential, model_from_json\n",
    "from keras.layers import Dense, Conv2D, Dropout, BatchNormalization, GlobalAveragePooling2D, MaxPooling2D, Flatten, Activation\n",
    "from keras.activations import softmax\n",
    "from keras.losses import categorical_crossentropy\n",
    "from keras.utils import np_utils\n",
    "import matplotlib.pyplot as plt\n",
    "import itertools\n",
    "from talos.model.normalizers import lr_normalizer\n",
    "from keras.optimizers import Adam, SGD\n",
    "import talos as ta\n",
    "from keras.optimizers import SGD"
   ]
  },
  {
   "cell_type": "code",
   "execution_count": null,
   "metadata": {},
   "outputs": [],
   "source": [
    "# custom function to plot confusion matrix\n",
    "\n",
    "def plot_confusion_matrix(cm, classes,\n",
    "                          normalize=False, #if true all values in confusion matrix is between 0 and 1\n",
    "                          title='Confusion matrix',\n",
    "                          cmap=plt.cm.Blues):\n",
    "    plt.imshow(cm, interpolation='nearest', cmap=cmap)\n",
    "    plt.title(title)\n",
    "    plt.colorbar()\n",
    "    tick_marks = np.arange(len(classes))\n",
    "    plt.xticks(tick_marks, classes, rotation=45)\n",
    "    plt.yticks(tick_marks, classes)\n",
    "\n",
    "    if normalize:\n",
    "        cm = cm.astype('float') / cm.sum(axis=1)[:, np.newaxis]\n",
    "        print(\"Normalized confusion matrix\")\n",
    "    else:\n",
    "        print('Confusion matrix, without normalization')\n",
    "\n",
    "    print(cm)\n",
    "    thresh = cm.max() / 2.\n",
    "    for i, j in itertools.product(range(cm.shape[0]), range(cm.shape[1])):\n",
    "        plt.text(j, i, cm[i, j],\n",
    "                 horizontalalignment=\"center\",\n",
    "                 color=\"white\" if cm[i, j] > thresh else \"black\")\n",
    "    plt.tight_layout()\n",
    "    plt.ylabel('True label')\n",
    "    plt.xlabel('Predicted label')\n",
    "    "
   ]
  },
  {
   "cell_type": "code",
   "execution_count": null,
   "metadata": {
    "colab": {
     "base_uri": "https://localhost:8080/",
     "height": 578
    },
    "colab_type": "code",
    "executionInfo": {
     "elapsed": 1852,
     "status": "ok",
     "timestamp": 1545509160669,
     "user": {
      "displayName": "sivarama krishnan rajaraman",
      "photoUrl": "https://lh3.googleusercontent.com/-c9Qcd5unD0c/AAAAAAAAAAI/AAAAAAAAAQc/vZowk7wyDTc/s64/photo.jpg",
      "userId": "10052315302748952705"
     },
     "user_tz": 300
    },
    "id": "aaICriJ_dIMX",
    "outputId": "fd0069cb-772e-4807-8139-6a5e6baca678"
   },
   "outputs": [],
   "source": [
    "# load data and transform to keras compatible format\n",
    "\n",
    "train_data_dir = 'malaria100/train'\n",
    "test_data_dir = 'malaria100/test'\n",
    "nb_train_samples = 24760 \n",
    "nb_test_samples = 2730 \n",
    "img_rows_orig = 100 \n",
    "img_cols_orig = 100\n",
    "\n",
    "def load_training_data():\n",
    "    labels = os.listdir(train_data_dir)\n",
    "    total = len(labels)\n",
    "    X_train = np.ndarray((nb_train_samples, img_rows_orig, img_cols_orig, 3), dtype=np.uint8)\n",
    "    Y_train = np.zeros((nb_train_samples,), dtype='uint8')\n",
    "    i = 0\n",
    "    print('-'*30)\n",
    "    print('Creating training images...')\n",
    "    print('-'*30)\n",
    "    j = 0\n",
    "    for label in labels:\n",
    "        image_names_train = os.listdir(os.path.join(train_data_dir, label))\n",
    "        total = len(image_names_train)\n",
    "        print(label, total)\n",
    "        for image_name in image_names_train:\n",
    "            img = cv2.imread(os.path.join(train_data_dir, label, image_name), cv2.IMREAD_COLOR)\n",
    "            img = np.array([img])\n",
    "            X_train[i] = img\n",
    "            Y_train[i] = j\n",
    "            if i % 100 == 0:\n",
    "                print('Done: {0}/{1} images'.format(i, total))\n",
    "            i += 1\n",
    "        j += 1    \n",
    "    print(i)                \n",
    "    print('Loading done.')\n",
    "    print('Transform targets to keras compatible format.')\n",
    "    Y_train = np_utils.to_categorical(Y_train[:nb_train_samples], num_classes)\n",
    "    np.save('imgs_train.npy', X_train, Y_train) \n",
    "    return X_train, Y_train\n",
    "    \n",
    "def load_test_data():\n",
    "    labels = os.listdir(test_data_dir)\n",
    "    X_test = np.ndarray((nb_test_samples, img_rows_orig, img_cols_orig, 3), dtype=np.uint8)\n",
    "    Y_test = np.zeros((nb_test_samples,), dtype='uint8')\n",
    "    i = 0\n",
    "    print('-'*30)\n",
    "    print('Creating test images...')\n",
    "    print('-'*30)\n",
    "    j = 0\n",
    "    for label in labels:\n",
    "        image_names_test = os.listdir(os.path.join(test_data_dir, label))\n",
    "        total = len(image_names_test)\n",
    "        print(label, total)\n",
    "        for image_name in image_names_test:\n",
    "            img = cv2.imread(os.path.join(test_data_dir, label, image_name), cv2.IMREAD_COLOR)\n",
    "            img = np.array([img])\n",
    "            X_test[i] = img\n",
    "            Y_test[i] = j\n",
    "            if i % 100 == 0:\n",
    "                print('Done: {0}/{1} images'.format(i, total))\n",
    "            i += 1\n",
    "        j += 1\n",
    "    print(i)            \n",
    "    print('Loading done.')\n",
    "    print('Transform targets to keras compatible format.');\n",
    "    Y_test = np_utils.to_categorical(Y_test[:nb_test_samples], num_classes)\n",
    "    np.save('imgs_test.npy', X_test, Y_test) \n",
    "    return X_test, Y_test\n",
    "\n",
    "\n",
    "def load_resized_training_data(img_rows, img_cols):\n",
    "\n",
    "    X_train, Y_train = load_training_data()\n",
    "    X_train = np.array([cv2.resize(img, (img_rows,img_cols)) for img in X_train[:nb_train_samples,:,:,:]])\n",
    "    \n",
    "    return X_train, Y_train\n",
    "    \n",
    "def load_resized_test_data(img_rows, img_cols):\n",
    "\n",
    "    X_test, Y_test = load_test_data()\n",
    "    X_test = np.array([cv2.resize(img, (img_rows,img_cols)) for img in X_test[:nb_test_samples,:,:,:]])\n",
    "    \n",
    "    return X_test, Y_test\n"
   ]
  },
  {
   "cell_type": "code",
   "execution_count": null,
   "metadata": {},
   "outputs": [],
   "source": [
    "# convert to keras compatible format\n",
    "\n",
    "img_rows=100 \n",
    "img_cols=100\n",
    "channel = 3 \n",
    "num_classes = 2 \n",
    "batch_size = 32\n",
    "num_epoch = 30\n",
    "\n",
    "#load data and convert to keras compatible format\n",
    "\n",
    "X_train, Y_train = load_resized_training_data(img_rows, img_cols)\n",
    "X_test, Y_test = load_resized_test_data(img_rows, img_cols)\n",
    "\n",
    "#print the shape of the data\n",
    "\n",
    "print(X_train.shape, Y_train.shape)\n",
    "print(X_test.shape, Y_test.shape)   \n",
    "print(X_train.shape[0], 'train samples')\n",
    "print(X_test.shape[0], 'test samples')"
   ]
  },
  {
   "cell_type": "code",
   "execution_count": null,
   "metadata": {
    "colab": {},
    "colab_type": "code",
    "id": "a47c5cpGdIMc"
   },
   "outputs": [],
   "source": [
    "x = np.concatenate((X_train, X_test), axis=0)\n",
    "x.shape"
   ]
  },
  {
   "cell_type": "code",
   "execution_count": null,
   "metadata": {
    "colab": {
     "base_uri": "https://localhost:8080/",
     "height": 34
    },
    "colab_type": "code",
    "executionInfo": {
     "elapsed": 163,
     "status": "ok",
     "timestamp": 1545509165092,
     "user": {
      "displayName": "sivarama krishnan rajaraman",
      "photoUrl": "https://lh3.googleusercontent.com/-c9Qcd5unD0c/AAAAAAAAAAI/AAAAAAAAAQc/vZowk7wyDTc/s64/photo.jpg",
      "userId": "10052315302748952705"
     },
     "user_tz": 300
    },
    "id": "9jmCj0FtdIMd",
    "outputId": "fdad1bcd-ba15-41f9-ead4-afaba31ecfd0"
   },
   "outputs": [],
   "source": [
    "y = np.concatenate((Y_train, Y_test), axis=0)\n",
    "y.shape"
   ]
  },
  {
   "cell_type": "code",
   "execution_count": null,
   "metadata": {
    "colab": {},
    "colab_type": "code",
    "id": "vMFqFmOrdIMg"
   },
   "outputs": [],
   "source": [
    "#declare the base architecture and parameters to optimize in the custom model\n",
    "\n",
    "def custom_model_fn(X_train, Y_train, X_test, Y_test, params):\n",
    "    conv_dropout = float(params['conv_dropout'])\n",
    "    dense1_neuron = int(params['dense1_neuron'])\n",
    "    model = Sequential()\n",
    "    model.add(BatchNormalization(input_shape=X_train.shape[1:]))\n",
    "    model.add(Conv2D(64, (5, 5), padding='same', activation=params['activation']))\n",
    "    model.add(MaxPooling2D(pool_size=(2, 2), strides=(2,2)))\n",
    "    model.add(Dropout(conv_dropout))\n",
    "\n",
    "    model.add(BatchNormalization(input_shape=X_train.shape[1:]))\n",
    "    model.add(Conv2D(128, (5, 5), padding='same', activation=params['activation']))\n",
    "    model.add(MaxPooling2D(pool_size=(2, 2)))\n",
    "    model.add(Dropout(conv_dropout))\n",
    "\n",
    "    model.add(BatchNormalization(input_shape=X_train.shape[1:]))\n",
    "    model.add(Conv2D(256, (5, 5), padding='same', activation=params['activation']))\n",
    "    model.add(MaxPooling2D(pool_size=(2, 2), strides=(2,2)))\n",
    "    model.add(Dropout(conv_dropout))\n",
    "\n",
    "    model.add(GlobalAveragePooling2D())\n",
    "    model.add(Dense(dense1_neuron))\n",
    "    model.add(Activation(params['activation']))\n",
    "    model.add(Dropout(params['dropout']))\n",
    "    model.add(Dense(2))\n",
    "    model.add(Activation('softmax'))\n",
    "    model.compile(optimizer=params['optimizer'](), loss='categorical_crossentropy',metrics=['accuracy'])\n",
    "    \n",
    "    \n",
    "    out = model.fit(\n",
    "        x, y, epochs=num_epoch, batch_size=batch_size, \n",
    "        verbose=1,\n",
    "        validation_data=[X_test, Y_test]\n",
    "    )\n",
    "    return out, model"
   ]
  },
  {
   "cell_type": "code",
   "execution_count": null,
   "metadata": {
    "colab": {},
    "colab_type": "code",
    "id": "lG0AW053dIMi"
   },
   "outputs": [],
   "source": [
    "#declare the parameters to optimize\n",
    "\n",
    "para = {\n",
    "    'dense1_neuron': [256, 512],\n",
    "    'activation': ['relu', 'elu'],\n",
    "    'conv_dropout': [0.25, 0.5],\n",
    "    'optimizer': [Adam, SGD],\n",
    "    'dropout': [0.25, 0.5]\n",
    "}"
   ]
  },
  {
   "cell_type": "code",
   "execution_count": null,
   "metadata": {
    "colab": {
     "base_uri": "https://localhost:8080/",
     "height": 102
    },
    "colab_type": "code",
    "id": "L4AnjxSidIMj",
    "outputId": "7a19235d-15db-473b-f64a-02c1aeba86e4",
    "scrolled": false
   },
   "outputs": [],
   "source": [
    "#run the experiment with talos\n",
    "\n",
    "scan_results = ta.Scan(x, y, para, custom_model_fn)"
   ]
  },
  {
   "cell_type": "code",
   "execution_count": null,
   "metadata": {
    "colab": {
     "base_uri": "https://localhost:8080/",
     "height": 204
    },
    "colab_type": "code",
    "executionInfo": {
     "elapsed": 190,
     "status": "ok",
     "timestamp": 1545508456803,
     "user": {
      "displayName": "sivarama krishnan rajaraman",
      "photoUrl": "https://lh3.googleusercontent.com/-c9Qcd5unD0c/AAAAAAAAAAI/AAAAAAAAAQc/vZowk7wyDTc/s64/photo.jpg",
      "userId": "10052315302748952705"
     },
     "user_tz": 300
    },
    "id": "pGx1ZIvRdIMm",
    "outputId": "dd23b4eb-85cd-4860-fa91-2d6187e56c30"
   },
   "outputs": [],
   "source": [
    "#print the scan results\n",
    "\n",
    "scan_results.data.head()"
   ]
  },
  {
   "cell_type": "code",
   "execution_count": null,
   "metadata": {
    "colab": {
     "base_uri": "https://localhost:8080/",
     "height": 34
    },
    "colab_type": "code",
    "executionInfo": {
     "elapsed": 191,
     "status": "ok",
     "timestamp": 1545508540264,
     "user": {
      "displayName": "sivarama krishnan rajaraman",
      "photoUrl": "https://lh3.googleusercontent.com/-c9Qcd5unD0c/AAAAAAAAAAI/AAAAAAAAAQc/vZowk7wyDTc/s64/photo.jpg",
      "userId": "10052315302748952705"
     },
     "user_tz": 300
    },
    "id": "TQLlAK2edIMo",
    "outputId": "d6788165-d381-4635-bfa4-175a6bdae19e"
   },
   "outputs": [],
   "source": [
    "#get the model ID that gives the best values for validation accuracy\n",
    "\n",
    "model_id = scan_results.data['val_acc'].astype('float').argmax() - 1\n",
    "model_id + 1"
   ]
  },
  {
   "cell_type": "code",
   "execution_count": null,
   "metadata": {
    "colab": {},
    "colab_type": "code",
    "id": "IQ6q7km8fO5B"
   },
   "outputs": [],
   "source": [
    "#load the best model\n",
    "\n",
    "model = model_from_json(scan_results.saved_models[model_id])\n",
    "model.set_weights(scan_results.saved_weights[model_id])\n",
    "model.summary()"
   ]
  },
  {
   "cell_type": "code",
   "execution_count": null,
   "metadata": {
    "colab": {
     "base_uri": "https://localhost:8080/",
     "height": 238
    },
    "colab_type": "code",
    "executionInfo": {
     "elapsed": 186,
     "status": "ok",
     "timestamp": 1545508652340,
     "user": {
      "displayName": "sivarama krishnan rajaraman",
      "photoUrl": "https://lh3.googleusercontent.com/-c9Qcd5unD0c/AAAAAAAAAAI/AAAAAAAAAQc/vZowk7wyDTc/s64/photo.jpg",
      "userId": "10052315302748952705"
     },
     "user_tz": 300
    },
    "id": "dgZbjx2sfnlA",
    "outputId": "843a1660-b6eb-41cc-df76-2297dbe09f38"
   },
   "outputs": [],
   "source": [
    "# access the summary details\n",
    "\n",
    "scan_results.details"
   ]
  },
  {
   "cell_type": "code",
   "execution_count": null,
   "metadata": {
    "colab": {
     "base_uri": "https://localhost:8080/",
     "height": 204
    },
    "colab_type": "code",
    "executionInfo": {
     "elapsed": 216,
     "status": "ok",
     "timestamp": 1545508671048,
     "user": {
      "displayName": "sivarama krishnan rajaraman",
      "photoUrl": "https://lh3.googleusercontent.com/-c9Qcd5unD0c/AAAAAAAAAAI/AAAAAAAAAQc/vZowk7wyDTc/s64/photo.jpg",
      "userId": "10052315302748952705"
     },
     "user_tz": 300
    },
    "id": "SsLCvB2KfrV_",
    "outputId": "489fa8e8-4b30-4f1b-b1e1-6809b2a9c139"
   },
   "outputs": [],
   "source": [
    "# use Scan object as input\n",
    "\n",
    "report = ta.Reporting(scan_results)\n",
    "\n",
    "# access the dataframe with the results\n",
    "\n",
    "report.data.head(-3)"
   ]
  },
  {
   "cell_type": "code",
   "execution_count": null,
   "metadata": {
    "colab": {
     "base_uri": "https://localhost:8080/",
     "height": 34
    },
    "colab_type": "code",
    "executionInfo": {
     "elapsed": 198,
     "status": "ok",
     "timestamp": 1545508690430,
     "user": {
      "displayName": "sivarama krishnan rajaraman",
      "photoUrl": "https://lh3.googleusercontent.com/-c9Qcd5unD0c/AAAAAAAAAAI/AAAAAAAAAQc/vZowk7wyDTc/s64/photo.jpg",
      "userId": "10052315302748952705"
     },
     "user_tz": 300
    },
    "id": "FFSApYfdfxCf",
    "outputId": "7724a9b5-a5d7-4adb-e0fe-f2e536a3b25f"
   },
   "outputs": [],
   "source": [
    "# get the number of rounds in the Scan\n",
    "\n",
    "report.rounds()"
   ]
  },
  {
   "cell_type": "code",
   "execution_count": null,
   "metadata": {
    "colab": {
     "base_uri": "https://localhost:8080/",
     "height": 34
    },
    "colab_type": "code",
    "executionInfo": {
     "elapsed": 280,
     "status": "ok",
     "timestamp": 1545508746494,
     "user": {
      "displayName": "sivarama krishnan rajaraman",
      "photoUrl": "https://lh3.googleusercontent.com/-c9Qcd5unD0c/AAAAAAAAAAI/AAAAAAAAAQc/vZowk7wyDTc/s64/photo.jpg",
      "userId": "10052315302748952705"
     },
     "user_tz": 300
    },
    "id": "ftx67p49fz3Y",
    "outputId": "afb44d58-d4be-43a5-e14a-9628d8cebdba"
   },
   "outputs": [],
   "source": [
    "# get the highest result for any metric, here for the validation accuracy\n",
    "\n",
    "report.high('val_acc')"
   ]
  },
  {
   "cell_type": "code",
   "execution_count": null,
   "metadata": {
    "colab": {},
    "colab_type": "code",
    "id": "KU3pHkP8fczw"
   },
   "outputs": [],
   "source": [
    "#save the model\n",
    "\n",
    "model.save('best_model.h5')\n",
    "model.summary()"
   ]
  }
 ],
 "metadata": {
  "accelerator": "GPU",
  "colab": {
   "collapsed_sections": [],
   "name": "CUSTOM_MODEL_GPU.ipynb",
   "provenance": [],
   "version": "0.3.2"
  },
  "kernelspec": {
   "display_name": "Python 3",
   "language": "python",
   "name": "python3"
  },
  "language_info": {
   "codemirror_mode": {
    "name": "ipython",
    "version": 3
   },
   "file_extension": ".py",
   "mimetype": "text/x-python",
   "name": "python",
   "nbconvert_exporter": "python",
   "pygments_lexer": "ipython3",
   "version": "3.6.4"
  }
 },
 "nbformat": 4,
 "nbformat_minor": 1
}
